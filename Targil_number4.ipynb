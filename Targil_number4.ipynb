{
 "cells": [
  {
   "cell_type": "code",
   "execution_count": 2,
   "id": "3c70da30",
   "metadata": {},
   "outputs": [],
   "source": [
    "def places_in_The_world (destinations) :\n",
    "    import requests\n",
    "    origins=\"Jerusalem\"\n",
    "    api=\"AIzaSy\"\n",
    "    url=\"https://maps.googleapis.com/maps/api/distancematrix/json?destinations=%s&origins=%s&key=%s\" % (destinations,origins,api)\n",
    "    try:\n",
    "        response= requests.get(url)\n",
    "        #print(response.content.decode(\"utf-8\"))\n",
    "        if not response.status_code==200:\n",
    "            (\"HTTP erorr\", response.status_code)\n",
    "        else:\n",
    "            try:\n",
    "                updateResponse=response.json()\n",
    "                x=(updateResponse[\"rows\"][0][\"elements\"][0][\"distance\"][\"text\"])\n",
    "                y=(updateResponse[\"rows\"][0][\"elements\"][0][\"duration\"][\"text\"])\n",
    "                lst=[x,y]\n",
    "                return lst\n",
    "            except:\n",
    "                print(\"response not in valid json format\")\n",
    "    except:\n",
    "        print(\"something went wrong with requests.get(url)\")\n",
    "    return\n",
    "       "
   ]
  },
  {
   "cell_type": "code",
   "execution_count": 3,
   "id": "523aebc4",
   "metadata": {},
   "outputs": [],
   "source": [
    "def get_lat_lng (address) :\n",
    "    import requests\n",
    "    api=\"AIzaSy\"\n",
    "    url=\"https://maps.googleapis.com/maps/api/geocode/json?address=%s&key=%s\" % (address,api)\n",
    "    try:\n",
    "        response= requests.get(url)\n",
    "        if not response.status_code==200:\n",
    "            (\"HTTP erorr\", response.status_code)\n",
    "        else:\n",
    "            try:\n",
    "                updateResponse=response.json()\n",
    "                lat=(updateResponse[\"results\"][0][\"geometry\"][\"location\"][\"lat\"])\n",
    "                lng=(updateResponse[\"results\"][0][\"geometry\"][\"location\"][\"lng\"])\n",
    "                lst=[lng,lat]\n",
    "                return lst\n",
    "            except:\n",
    "                print(\"response not in valid json format\")\n",
    "    except:\n",
    "        print(\"something went wrong with requests.get(url)\")\n",
    "    return\n",
    "       "
   ]
  },
  {
   "cell_type": "code",
   "execution_count": 4,
   "id": "07d3de6a",
   "metadata": {},
   "outputs": [],
   "source": [
    "path=r\"C:\\Users\\iernst\\OneDrive - Intel Corporation\\Documents\\university\\third year\\semester B\\intro Knowledge & Data\\4\"\n",
    "fileName=\"\\dests.txt\"\n",
    "doc=open(path+fileName)\n",
    "details_Cities={}\n",
    "tup=()\n",
    "for line in doc:\n",
    "    tup=(places_in_The_world(line)[0],places_in_The_world(line)[1],get_lat_lng(line)[0],get_lat_lng(line)[1])\n",
    "    details_Cities[line]=tup"
   ]
  },
  {
   "cell_type": "code",
   "execution_count": 5,
   "id": "03eb3323",
   "metadata": {},
   "outputs": [
    {
     "name": "stdout",
     "output_type": "stream",
     "text": [
      "city: Istanbul\n",
      "\n",
      "The distance between Jerusalem and Istanbul\n",
      " is: 1,809 km \n",
      "The time between Jerusalem and Istanbul\n",
      " is: 20 hours 39 mins\n",
      "The lng of Istanbul\n",
      " is: 28.9783589\n",
      "The lat of Istanbul\n",
      " is: 41.0082376\n",
      "\n",
      "city: Amsterdam\n",
      "\n",
      "The distance between Jerusalem and Amsterdam\n",
      " is: 4,528 km \n",
      "The time between Jerusalem and Amsterdam\n",
      " is: 1 day 23 hours\n",
      "The lng of Amsterdam\n",
      " is: 4.9041389\n",
      "The lat of Amsterdam\n",
      " is: 52.3675734\n",
      "\n",
      "city: Valletta\n",
      "\n",
      "The distance between Jerusalem and Valletta\n",
      " is: 3,783 km \n",
      "The time between Jerusalem and Valletta\n",
      " is: 2 days 2 hours\n",
      "The lng of Valletta\n",
      " is: 14.5145528\n",
      "The lat of Valletta\n",
      " is: 35.8989085\n",
      "\n",
      "city: Basel\n",
      "\n",
      "The distance between Jerusalem and Basel\n",
      " is: 4,093 km \n",
      "The time between Jerusalem and Basel\n",
      " is: 1 day 20 hours\n",
      "The lng of Basel\n",
      " is: 7.5885761\n",
      "The lat of Basel\n",
      " is: 47.5595986\n",
      "\n",
      "city: Doha\n",
      "The distance between Jerusalem and Doha is: 2,105 km \n",
      "The time between Jerusalem and Doha is: 21 hours 58 mins\n",
      "The lng of Doha is: 51.53103979999999\n",
      "The lat of Doha is: 25.2854473\n",
      "\n"
     ]
    }
   ],
   "source": [
    "for line in details_Cities:\n",
    "    print(f\"city: {line}\")\n",
    "    print(f'The distance between Jerusalem and {line} is: {details_Cities[line][0]} ')\n",
    "    print(f'The time between Jerusalem and {line} is: {details_Cities[line][1]}')\n",
    "    print(f'The lng of {line} is: {details_Cities[line][2]}')\n",
    "    print(f'The lat of {line} is: {details_Cities[line][3]}')\n",
    "    print(\"\")"
   ]
  },
  {
   "cell_type": "code",
   "execution_count": 25,
   "id": "a1318ade",
   "metadata": {
    "scrolled": true
   },
   "outputs": [
    {
     "name": "stdout",
     "output_type": "stream",
     "text": [
      "4528 4093 3783\n"
     ]
    }
   ],
   "source": [
    "lst2=[]\n",
    "for line in details_Cities:\n",
    "    temp=details_Cities[line][0][:-3]\n",
    "    temp=temp.replace(\",\",\"\")\n",
    "    int(temp)\n",
    "    lst2.append(temp)\n",
    "#buble sort\n",
    "swapped = True\n",
    "while(swapped):\n",
    "    swapped = False\n",
    "    for i in range(len(lst2)-1):\n",
    "        if(lst2[i] > lst2[i + 1]):\n",
    "            t = lst2[i]\n",
    "            lst2[i] = lst2[i + 1]\n",
    "            lst2[i + 1] = t\n",
    "            swapped = True\n",
    "       \n",
    "print(lst2[-1],lst2[-2],lst2[-3])"
   ]
  },
  {
   "cell_type": "code",
   "execution_count": null,
   "id": "c270542e",
   "metadata": {},
   "outputs": [],
   "source": []
  }
 ],
 "metadata": {
  "kernelspec": {
   "display_name": "Python 3 (ipykernel)",
   "language": "python",
   "name": "python3"
  },
  "language_info": {
   "codemirror_mode": {
    "name": "ipython",
    "version": 3
   },
   "file_extension": ".py",
   "mimetype": "text/x-python",
   "name": "python",
   "nbconvert_exporter": "python",
   "pygments_lexer": "ipython3",
   "version": "3.9.7"
  }
 },
 "nbformat": 4,
 "nbformat_minor": 5
}
